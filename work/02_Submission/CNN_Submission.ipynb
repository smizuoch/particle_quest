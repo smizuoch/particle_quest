{
 "cells": [
  {
   "cell_type": "markdown",
   "id": "a3095fde",
   "metadata": {
    "editable": true,
    "slideshow": {
     "slide_type": ""
    },
    "tags": []
   },
   "source": [
    "# 評価方法\n",
    "\n",
    "分類されていないデータを認識し、どれだけ正しくカテゴリごとに分類できるかを算出した「平均精度」の高さを競い合います。\n",
    "\n",
    "今回、活用するデータはLSWMD_25519となります。\n",
    "LSWMD_25519のFailureType項目が分類されていない状態のデータに対し、正しいFailureTypeカテゴリを分類するプログラムを作成し、その平均精度を算出します。\n",
    "平均精度とは、カテゴリごとに正しく分類できる精度を平均した値です。カテゴリごとに算出した精度（Aが正しく分類された数/Aのデータ数）を足し、カテゴリ数で割ります。\n",
    "\n",
    "公平な評価を実施するために、以下の制限を設けています。\n",
    "1. 外部パッケージをインストールするためのセルとsolution関数の中身のみを編集すること\n",
    "2. 校舎のiMac上で最後のセルの実行時間が15分未満であること　（%%timeitの出力結果を確認してください）\n",
    "\n",
    "※気になる点がある場合、Discordで気軽にお問合せください。"
   ]
  },
  {
   "cell_type": "code",
   "execution_count": 1,
   "id": "c8b0f68e",
   "metadata": {
    "deletable": false,
    "editable": false,
    "slideshow": {
     "slide_type": ""
    },
    "tags": [],
    "vscode": {
     "languageId": "plaintext"
    }
   },
   "outputs": [],
   "source": [
    "import numpy as np # https://numpy.org/ja/\n",
    "import pandas as pd # https://pandas.pydata.org/\n",
    "from sklearn.model_selection import train_test_split"
   ]
  },
  {
   "cell_type": "markdown",
   "id": "3ea86471-32fa-46c6-a005-ad6e1f7b7f72",
   "metadata": {
    "editable": true,
    "slideshow": {
     "slide_type": ""
    },
    "tags": []
   },
   "source": [
    "外部パッケージを使用する場合、以下の方法でインストールを実施してください。"
   ]
  },
  {
   "cell_type": "code",
   "execution_count": 2,
   "id": "6be8d1cd-7df7-4b10-aa1a-e24677b50d78",
   "metadata": {
    "editable": true,
    "slideshow": {
     "slide_type": ""
    },
    "tags": []
   },
   "outputs": [
    {
     "name": "stdout",
     "output_type": "stream",
     "text": [
      "\u001b[33mWARNING: The directory '/home/jovyan/.cache/pip' or its parent directory is not owned or is not writable by the current user. The cache has been disabled. Check the permissions and owner of that directory. If executing pip with sudo, you should use sudo's -H flag.\u001b[0m\u001b[33m\n",
      "\u001b[0mRequirement already satisfied: keras in /opt/conda/lib/python3.11/site-packages (2.14.0)\n",
      "\u001b[33mWARNING: Running pip as the 'root' user can result in broken permissions and conflicting behaviour with the system package manager. It is recommended to use a virtual environment instead: https://pip.pypa.io/warnings/venv\u001b[0m\u001b[33m\n",
      "\u001b[0m\u001b[33mWARNING: The directory '/home/jovyan/.cache/pip' or its parent directory is not owned or is not writable by the current user. The cache has been disabled. Check the permissions and owner of that directory. If executing pip with sudo, you should use sudo's -H flag.\u001b[0m\u001b[33m\n",
      "\u001b[0mRequirement already satisfied: tensorflow-cpu in /opt/conda/lib/python3.11/site-packages (2.14.0)\n",
      "Requirement already satisfied: absl-py>=1.0.0 in /opt/conda/lib/python3.11/site-packages (from tensorflow-cpu) (2.0.0)\n",
      "Requirement already satisfied: astunparse>=1.6.0 in /opt/conda/lib/python3.11/site-packages (from tensorflow-cpu) (1.6.3)\n",
      "Requirement already satisfied: flatbuffers>=23.5.26 in /opt/conda/lib/python3.11/site-packages (from tensorflow-cpu) (23.5.26)\n",
      "Requirement already satisfied: gast!=0.5.0,!=0.5.1,!=0.5.2,>=0.2.1 in /opt/conda/lib/python3.11/site-packages (from tensorflow-cpu) (0.5.4)\n",
      "Requirement already satisfied: google-pasta>=0.1.1 in /opt/conda/lib/python3.11/site-packages (from tensorflow-cpu) (0.2.0)\n",
      "Requirement already satisfied: h5py>=2.9.0 in /opt/conda/lib/python3.11/site-packages (from tensorflow-cpu) (3.10.0)\n",
      "Requirement already satisfied: libclang>=13.0.0 in /opt/conda/lib/python3.11/site-packages (from tensorflow-cpu) (16.0.6)\n",
      "Requirement already satisfied: ml-dtypes==0.2.0 in /opt/conda/lib/python3.11/site-packages (from tensorflow-cpu) (0.2.0)\n",
      "Requirement already satisfied: numpy>=1.23.5 in /opt/conda/lib/python3.11/site-packages (from tensorflow-cpu) (1.24.4)\n",
      "Requirement already satisfied: opt-einsum>=2.3.2 in /opt/conda/lib/python3.11/site-packages (from tensorflow-cpu) (3.3.0)\n",
      "Requirement already satisfied: packaging in /opt/conda/lib/python3.11/site-packages (from tensorflow-cpu) (23.2)\n",
      "Requirement already satisfied: protobuf!=4.21.0,!=4.21.1,!=4.21.2,!=4.21.3,!=4.21.4,!=4.21.5,<5.0.0dev,>=3.20.3 in /opt/conda/lib/python3.11/site-packages (from tensorflow-cpu) (4.24.3)\n",
      "Requirement already satisfied: setuptools in /opt/conda/lib/python3.11/site-packages (from tensorflow-cpu) (68.2.2)\n",
      "Requirement already satisfied: six>=1.12.0 in /opt/conda/lib/python3.11/site-packages (from tensorflow-cpu) (1.16.0)\n",
      "Requirement already satisfied: termcolor>=1.1.0 in /opt/conda/lib/python3.11/site-packages (from tensorflow-cpu) (2.3.0)\n",
      "Requirement already satisfied: typing-extensions>=3.6.6 in /opt/conda/lib/python3.11/site-packages (from tensorflow-cpu) (4.8.0)\n",
      "Requirement already satisfied: wrapt<1.15,>=1.11.0 in /opt/conda/lib/python3.11/site-packages (from tensorflow-cpu) (1.14.1)\n",
      "Requirement already satisfied: tensorflow-io-gcs-filesystem>=0.23.1 in /opt/conda/lib/python3.11/site-packages (from tensorflow-cpu) (0.34.0)\n",
      "Requirement already satisfied: grpcio<2.0,>=1.24.3 in /opt/conda/lib/python3.11/site-packages (from tensorflow-cpu) (1.59.2)\n",
      "Requirement already satisfied: tensorboard<2.15,>=2.14 in /opt/conda/lib/python3.11/site-packages (from tensorflow-cpu) (2.14.1)\n",
      "Requirement already satisfied: tensorflow-estimator<2.15,>=2.14.0 in /opt/conda/lib/python3.11/site-packages (from tensorflow-cpu) (2.14.0)\n",
      "Requirement already satisfied: keras<2.15,>=2.14.0 in /opt/conda/lib/python3.11/site-packages (from tensorflow-cpu) (2.14.0)\n",
      "Requirement already satisfied: wheel<1.0,>=0.23.0 in /opt/conda/lib/python3.11/site-packages (from astunparse>=1.6.0->tensorflow-cpu) (0.41.2)\n",
      "Requirement already satisfied: google-auth<3,>=1.6.3 in /opt/conda/lib/python3.11/site-packages (from tensorboard<2.15,>=2.14->tensorflow-cpu) (2.23.4)\n",
      "Requirement already satisfied: google-auth-oauthlib<1.1,>=0.5 in /opt/conda/lib/python3.11/site-packages (from tensorboard<2.15,>=2.14->tensorflow-cpu) (1.0.0)\n",
      "Requirement already satisfied: markdown>=2.6.8 in /opt/conda/lib/python3.11/site-packages (from tensorboard<2.15,>=2.14->tensorflow-cpu) (3.5.1)\n",
      "Requirement already satisfied: requests<3,>=2.21.0 in /opt/conda/lib/python3.11/site-packages (from tensorboard<2.15,>=2.14->tensorflow-cpu) (2.31.0)\n",
      "Requirement already satisfied: tensorboard-data-server<0.8.0,>=0.7.0 in /opt/conda/lib/python3.11/site-packages (from tensorboard<2.15,>=2.14->tensorflow-cpu) (0.7.2)\n",
      "Requirement already satisfied: werkzeug>=1.0.1 in /opt/conda/lib/python3.11/site-packages (from tensorboard<2.15,>=2.14->tensorflow-cpu) (3.0.1)\n",
      "Requirement already satisfied: cachetools<6.0,>=2.0.0 in /opt/conda/lib/python3.11/site-packages (from google-auth<3,>=1.6.3->tensorboard<2.15,>=2.14->tensorflow-cpu) (5.3.2)\n",
      "Requirement already satisfied: pyasn1-modules>=0.2.1 in /opt/conda/lib/python3.11/site-packages (from google-auth<3,>=1.6.3->tensorboard<2.15,>=2.14->tensorflow-cpu) (0.3.0)\n",
      "Requirement already satisfied: rsa<5,>=3.1.4 in /opt/conda/lib/python3.11/site-packages (from google-auth<3,>=1.6.3->tensorboard<2.15,>=2.14->tensorflow-cpu) (4.9)\n",
      "Requirement already satisfied: requests-oauthlib>=0.7.0 in /opt/conda/lib/python3.11/site-packages (from google-auth-oauthlib<1.1,>=0.5->tensorboard<2.15,>=2.14->tensorflow-cpu) (1.3.1)\n",
      "Requirement already satisfied: charset-normalizer<4,>=2 in /opt/conda/lib/python3.11/site-packages (from requests<3,>=2.21.0->tensorboard<2.15,>=2.14->tensorflow-cpu) (3.3.0)\n",
      "Requirement already satisfied: idna<4,>=2.5 in /opt/conda/lib/python3.11/site-packages (from requests<3,>=2.21.0->tensorboard<2.15,>=2.14->tensorflow-cpu) (3.4)\n",
      "Requirement already satisfied: urllib3<3,>=1.21.1 in /opt/conda/lib/python3.11/site-packages (from requests<3,>=2.21.0->tensorboard<2.15,>=2.14->tensorflow-cpu) (2.0.7)\n",
      "Requirement already satisfied: certifi>=2017.4.17 in /opt/conda/lib/python3.11/site-packages (from requests<3,>=2.21.0->tensorboard<2.15,>=2.14->tensorflow-cpu) (2023.7.22)\n",
      "Requirement already satisfied: MarkupSafe>=2.1.1 in /opt/conda/lib/python3.11/site-packages (from werkzeug>=1.0.1->tensorboard<2.15,>=2.14->tensorflow-cpu) (2.1.3)\n",
      "Requirement already satisfied: pyasn1<0.6.0,>=0.4.6 in /opt/conda/lib/python3.11/site-packages (from pyasn1-modules>=0.2.1->google-auth<3,>=1.6.3->tensorboard<2.15,>=2.14->tensorflow-cpu) (0.5.0)\n",
      "Requirement already satisfied: oauthlib>=3.0.0 in /opt/conda/lib/python3.11/site-packages (from requests-oauthlib>=0.7.0->google-auth-oauthlib<1.1,>=0.5->tensorboard<2.15,>=2.14->tensorflow-cpu) (3.2.2)\n",
      "\u001b[33mWARNING: Running pip as the 'root' user can result in broken permissions and conflicting behaviour with the system package manager. It is recommended to use a virtual environment instead: https://pip.pypa.io/warnings/venv\u001b[0m\u001b[33m\n",
      "\u001b[0m"
     ]
    }
   ],
   "source": [
    "# 必要な外部パッケージは、以下の内容を編集しインストールしてください\n",
    "!pip install keras\n",
    "!pip install tensorflow-cpu"
   ]
  },
  {
   "cell_type": "markdown",
   "id": "a113ea05-433a-4c82-9cb1-2c8f834a0364",
   "metadata": {
    "editable": true,
    "slideshow": {
     "slide_type": ""
    },
    "tags": []
   },
   "source": [
    "以下のsolution関数のみ編集してください。"
   ]
  },
  {
   "cell_type": "code",
   "execution_count": 3,
   "id": "cda6ad7e-8e26-4208-bdbd-3fa37e79c82c",
   "metadata": {
    "editable": true,
    "slideshow": {
     "slide_type": ""
    },
    "tags": []
   },
   "outputs": [],
   "source": [
    "def solution(x_test_df, train_df):\n",
    "    import numpy as np\n",
    "    from skimage.transform import resize\n",
    "    from keras.models import Sequential\n",
    "    from keras.layers import Conv2D, MaxPooling2D, Flatten, Dense, Dropout, BatchNormalization\n",
    "    from keras.callbacks import EarlyStopping\n",
    "    from sklearn.preprocessing import LabelEncoder\n",
    "    from tensorflow.keras.utils import to_categorical\n",
    "    from keras.callbacks import EarlyStopping, ReduceLROnPlateau\n",
    "\n",
    "    target_size = (64, 64)\n",
    "    resized_images = []\n",
    "    for img in train_df['waferMap']:\n",
    "        resized_img = resize(img, target_size, anti_aliasing=True)\n",
    "        resized_images.append(resized_img)\n",
    "\n",
    "    X_train = np.array(resized_images).reshape(-1, 64, 64, 1)\n",
    "\n",
    "    encoder = LabelEncoder()\n",
    "    encoded_Y = encoder.fit_transform(train_df['failureType'])\n",
    "    y_train = to_categorical(encoded_Y)\n",
    "\n",
    "    model = Sequential()\n",
    "    model.add(Conv2D(32, (5, 5), activation='relu', input_shape=(64, 64, 1)))\n",
    "    model.add(MaxPooling2D((5, 5)))\n",
    "    model.add(BatchNormalization())\n",
    "    \n",
    "    model.add(Conv2D(64, (3, 3), activation='relu'))\n",
    "    model.add(MaxPooling2D((3, 3)))\n",
    "    model.add(BatchNormalization())\n",
    "    \n",
    "    model.add(Flatten())\n",
    "    \n",
    "    model.add(Dense(128, activation='relu'))\n",
    "    model.add(Dropout(0.5))\n",
    "    \n",
    "    model.add(Dense(64, activation='relu'))\n",
    "    \n",
    "    model.add(Dense(y_train.shape[1], activation='softmax'))\n",
    "\n",
    "    model.compile(optimizer='adam', loss='categorical_crossentropy', metrics=['accuracy'])\n",
    "    \n",
    "    early_stopping = EarlyStopping(monitor='val_loss', patience=100)\n",
    "\n",
    "    # 学習率を自動的に減らすコールバックを作成します\n",
    "    reduce_lr = ReduceLROnPlateau(monitor='val_loss', factor=0.2, patience=5, min_lr=0.001)\n",
    "    \n",
    "    model.fit(X_train, y_train, epochs=40, batch_size=512, validation_split=0.2, callbacks=[early_stopping, reduce_lr])\n",
    "\n",
    "    resized_images_test = []\n",
    "    for img in x_test_df['waferMap']:\n",
    "        resized_img_test = resize(img, target_size, anti_aliasing=True)\n",
    "        resized_images_test.append(resized_img_test)\n",
    "\n",
    "    X_test = np.array(resized_images_test).reshape(-1, 64, 64, 1)\n",
    "    \n",
    "    y_pred = np.argmax(model.predict(X_test), axis=-1)\n",
    "\n",
    "    return pd.DataFrame({'failureType': encoder.inverse_transform(y_pred)}, index=x_test_df.index)"
   ]
  },
  {
   "cell_type": "markdown",
   "id": "c70c20f4-f775-4d9d-90c7-a3b583584edd",
   "metadata": {
    "editable": true,
    "slideshow": {
     "slide_type": ""
    },
    "tags": []
   },
   "source": [
    "solution関数は以下のように活用され、平均精度を計算します。"
   ]
  },
  {
   "cell_type": "code",
   "execution_count": 4,
   "id": "04a31dda-7c8b-477e-9547-5c9db739f7f0",
   "metadata": {
    "deletable": false,
    "slideshow": {
     "slide_type": ""
    },
    "tags": [],
    "vscode": {
     "languageId": "plaintext"
    }
   },
   "outputs": [
    {
     "name": "stderr",
     "output_type": "stream",
     "text": [
      "2023-11-07 04:17:36.336468: I tensorflow/core/platform/cpu_feature_guard.cc:182] This TensorFlow binary is optimized to use available CPU instructions in performance-critical operations.\n",
      "To enable the following instructions: AVX2 FMA, in other operations, rebuild TensorFlow with the appropriate compiler flags.\n"
     ]
    },
    {
     "name": "stdout",
     "output_type": "stream",
     "text": [
      "Epoch 1/40\n"
     ]
    },
    {
     "name": "stderr",
     "output_type": "stream",
     "text": [
      "2023-11-07 04:17:48.558984: W tensorflow/tsl/framework/cpu_allocator_impl.cc:83] Allocation of 301023232 exceeds 10% of free system memory.\n",
      "2023-11-07 04:17:49.974845: W tensorflow/tsl/framework/cpu_allocator_impl.cc:83] Allocation of 235929600 exceeds 10% of free system memory.\n",
      "2023-11-07 04:17:50.375646: W tensorflow/tsl/framework/cpu_allocator_impl.cc:83] Allocation of 235929600 exceeds 10% of free system memory.\n"
     ]
    },
    {
     "name": "stdout",
     "output_type": "stream",
     "text": [
      " 1/36 [..............................] - ETA: 1:06 - loss: 2.1102 - accuracy: 0.1074"
     ]
    },
    {
     "name": "stderr",
     "output_type": "stream",
     "text": [
      "2023-11-07 04:17:50.673401: W tensorflow/tsl/framework/cpu_allocator_impl.cc:83] Allocation of 235929600 exceeds 10% of free system memory.\n",
      "2023-11-07 04:17:50.804663: W tensorflow/tsl/framework/cpu_allocator_impl.cc:83] Allocation of 235929600 exceeds 10% of free system memory.\n"
     ]
    },
    {
     "name": "stdout",
     "output_type": "stream",
     "text": [
      "36/36 [==============================] - 18s 460ms/step - loss: 1.0716 - accuracy: 0.6106 - val_loss: 2.0215 - val_accuracy: 0.1360 - lr: 0.0010\n",
      "Epoch 2/40\n",
      "36/36 [==============================] - 16s 446ms/step - loss: 0.5860 - accuracy: 0.7752 - val_loss: 2.0203 - val_accuracy: 0.1358 - lr: 0.0010\n",
      "Epoch 3/40\n",
      "36/36 [==============================] - 16s 446ms/step - loss: 0.4818 - accuracy: 0.8159 - val_loss: 2.0273 - val_accuracy: 0.1358 - lr: 0.0010\n",
      "Epoch 4/40\n",
      "36/36 [==============================] - 16s 442ms/step - loss: 0.4326 - accuracy: 0.8315 - val_loss: 2.0026 - val_accuracy: 0.1358 - lr: 0.0010\n",
      "Epoch 5/40\n",
      "36/36 [==============================] - 16s 440ms/step - loss: 0.3996 - accuracy: 0.8465 - val_loss: 2.0175 - val_accuracy: 0.1358 - lr: 0.0010\n",
      "Epoch 6/40\n",
      "36/36 [==============================] - 16s 444ms/step - loss: 0.3740 - accuracy: 0.8555 - val_loss: 1.9758 - val_accuracy: 0.1358 - lr: 0.0010\n",
      "Epoch 7/40\n",
      "36/36 [==============================] - 16s 447ms/step - loss: 0.3543 - accuracy: 0.8616 - val_loss: 1.9172 - val_accuracy: 0.1358 - lr: 0.0010\n",
      "Epoch 8/40\n",
      "36/36 [==============================] - 16s 441ms/step - loss: 0.3319 - accuracy: 0.8718 - val_loss: 1.7315 - val_accuracy: 0.4898 - lr: 0.0010\n",
      "Epoch 9/40\n",
      "36/36 [==============================] - 16s 439ms/step - loss: 0.3156 - accuracy: 0.8779 - val_loss: 1.7821 - val_accuracy: 0.1700 - lr: 0.0010\n",
      "Epoch 10/40\n",
      "36/36 [==============================] - 16s 442ms/step - loss: 0.3028 - accuracy: 0.8843 - val_loss: 1.5222 - val_accuracy: 0.5827 - lr: 0.0010\n",
      "Epoch 11/40\n",
      "36/36 [==============================] - 16s 443ms/step - loss: 0.2906 - accuracy: 0.8893 - val_loss: 1.4110 - val_accuracy: 0.5274 - lr: 0.0010\n",
      "Epoch 12/40\n",
      "36/36 [==============================] - 17s 471ms/step - loss: 0.2766 - accuracy: 0.8944 - val_loss: 1.2131 - val_accuracy: 0.4911 - lr: 0.0010\n",
      "Epoch 13/40\n",
      "36/36 [==============================] - 17s 472ms/step - loss: 0.2657 - accuracy: 0.8985 - val_loss: 1.1139 - val_accuracy: 0.5553 - lr: 0.0010\n",
      "Epoch 14/40\n",
      "36/36 [==============================] - 17s 481ms/step - loss: 0.2524 - accuracy: 0.9025 - val_loss: 1.0289 - val_accuracy: 0.5642 - lr: 0.0010\n",
      "Epoch 15/40\n",
      "36/36 [==============================] - 17s 461ms/step - loss: 0.2457 - accuracy: 0.9074 - val_loss: 0.7178 - val_accuracy: 0.7475 - lr: 0.0010\n",
      "Epoch 16/40\n",
      "36/36 [==============================] - 16s 456ms/step - loss: 0.2345 - accuracy: 0.9104 - val_loss: 0.7409 - val_accuracy: 0.7499 - lr: 0.0010\n",
      "Epoch 17/40\n",
      "36/36 [==============================] - 16s 447ms/step - loss: 0.2221 - accuracy: 0.9154 - val_loss: 0.4501 - val_accuracy: 0.8250 - lr: 0.0010\n",
      "Epoch 18/40\n",
      "36/36 [==============================] - 17s 460ms/step - loss: 0.2169 - accuracy: 0.9175 - val_loss: 0.4563 - val_accuracy: 0.8195 - lr: 0.0010\n",
      "Epoch 19/40\n",
      "36/36 [==============================] - 16s 452ms/step - loss: 0.2084 - accuracy: 0.9218 - val_loss: 0.3743 - val_accuracy: 0.8505 - lr: 0.0010\n",
      "Epoch 20/40\n",
      "36/36 [==============================] - 16s 449ms/step - loss: 0.1986 - accuracy: 0.9251 - val_loss: 0.3727 - val_accuracy: 0.8579 - lr: 0.0010\n",
      "Epoch 21/40\n",
      "36/36 [==============================] - 16s 439ms/step - loss: 0.1905 - accuracy: 0.9307 - val_loss: 0.4127 - val_accuracy: 0.8585 - lr: 0.0010\n",
      "Epoch 22/40\n",
      "36/36 [==============================] - 16s 457ms/step - loss: 0.1783 - accuracy: 0.9340 - val_loss: 0.4375 - val_accuracy: 0.8592 - lr: 0.0010\n",
      "Epoch 23/40\n",
      "36/36 [==============================] - 17s 473ms/step - loss: 0.1725 - accuracy: 0.9341 - val_loss: 0.8455 - val_accuracy: 0.7919 - lr: 0.0010\n",
      "Epoch 24/40\n",
      "36/36 [==============================] - 16s 444ms/step - loss: 0.1661 - accuracy: 0.9392 - val_loss: 1.8644 - val_accuracy: 0.6850 - lr: 0.0010\n",
      "Epoch 25/40\n",
      "36/36 [==============================] - 16s 441ms/step - loss: 0.1596 - accuracy: 0.9388 - val_loss: 1.4410 - val_accuracy: 0.7466 - lr: 0.0010\n",
      "Epoch 26/40\n",
      "36/36 [==============================] - 16s 445ms/step - loss: 0.1574 - accuracy: 0.9403 - val_loss: 0.7831 - val_accuracy: 0.8226 - lr: 0.0010\n",
      "Epoch 27/40\n",
      "36/36 [==============================] - 16s 441ms/step - loss: 0.1489 - accuracy: 0.9452 - val_loss: 1.0401 - val_accuracy: 0.7610 - lr: 0.0010\n",
      "Epoch 28/40\n",
      "36/36 [==============================] - 16s 446ms/step - loss: 0.1412 - accuracy: 0.9467 - val_loss: 0.4989 - val_accuracy: 0.8468 - lr: 0.0010\n",
      "Epoch 29/40\n",
      "36/36 [==============================] - 16s 439ms/step - loss: 0.1339 - accuracy: 0.9493 - val_loss: 0.5396 - val_accuracy: 0.8409 - lr: 0.0010\n",
      "Epoch 30/40\n",
      "36/36 [==============================] - 16s 438ms/step - loss: 0.1247 - accuracy: 0.9536 - val_loss: 0.4343 - val_accuracy: 0.8592 - lr: 0.0010\n",
      "Epoch 31/40\n",
      "36/36 [==============================] - 16s 438ms/step - loss: 0.1222 - accuracy: 0.9523 - val_loss: 0.3761 - val_accuracy: 0.8833 - lr: 0.0010\n",
      "Epoch 32/40\n",
      "36/36 [==============================] - 16s 443ms/step - loss: 0.1193 - accuracy: 0.9548 - val_loss: 0.3923 - val_accuracy: 0.8857 - lr: 0.0010\n",
      "Epoch 33/40\n",
      "36/36 [==============================] - 16s 453ms/step - loss: 0.1180 - accuracy: 0.9550 - val_loss: 0.4007 - val_accuracy: 0.8881 - lr: 0.0010\n",
      "Epoch 34/40\n",
      "36/36 [==============================] - 16s 440ms/step - loss: 0.1129 - accuracy: 0.9574 - val_loss: 0.4170 - val_accuracy: 0.8875 - lr: 0.0010\n",
      "Epoch 35/40\n",
      "36/36 [==============================] - 16s 440ms/step - loss: 0.1060 - accuracy: 0.9616 - val_loss: 0.4905 - val_accuracy: 0.8761 - lr: 0.0010\n",
      "Epoch 36/40\n",
      "36/36 [==============================] - 16s 445ms/step - loss: 0.1004 - accuracy: 0.9630 - val_loss: 0.3334 - val_accuracy: 0.8975 - lr: 0.0010\n",
      "Epoch 37/40\n",
      "36/36 [==============================] - 16s 441ms/step - loss: 0.0930 - accuracy: 0.9658 - val_loss: 0.3485 - val_accuracy: 0.8875 - lr: 0.0010\n",
      "Epoch 38/40\n",
      "36/36 [==============================] - 16s 446ms/step - loss: 0.0924 - accuracy: 0.9653 - val_loss: 0.4797 - val_accuracy: 0.8576 - lr: 0.0010\n",
      "Epoch 39/40\n",
      "36/36 [==============================] - 16s 436ms/step - loss: 0.0905 - accuracy: 0.9677 - val_loss: 0.3680 - val_accuracy: 0.8944 - lr: 0.0010\n",
      "Epoch 40/40\n",
      "36/36 [==============================] - 16s 439ms/step - loss: 0.0851 - accuracy: 0.9693 - val_loss: 0.4618 - val_accuracy: 0.8690 - lr: 0.0010\n",
      "80/80 [==============================] - 1s 7ms/step\n",
      "平均精度：85.23%\n",
      "11min 47s ± 0 ns per loop (mean ± std. dev. of 1 run, 1 loop each)\n"
     ]
    }
   ],
   "source": [
    "%%timeit -r 1 -n 1\n",
    "\n",
    "# データのインポート\n",
    "df=pd.read_pickle(\"../input/LSWMD_25519.pkl\")\n",
    "\n",
    "# テスト用と学習用のデータを作成（テストする際は、random_stateの値などを編集してみてください）\n",
    "train_df, test_df = train_test_split(df, stratify=df['failureType'], test_size=0.10, random_state=100)\n",
    "\n",
    "y_test_df = test_df[['failureType']]\n",
    "x_test_df = test_df.drop(columns=['failureType'])\n",
    "\n",
    "# solution関数を実行\n",
    "user_result_df = solution(x_test_df, train_df)\n",
    "\n",
    "average_accuracy = 0\n",
    "# ユーザーの提出物のフォーマット確認\n",
    "if type(y_test_df) == type(user_result_df) and y_test_df.shape == user_result_df.shape:\n",
    "    # 平均精度の計算\n",
    "    accuracies = {}\n",
    "    for failure_type in df['failureType'].unique():\n",
    "        y_test_df_by_failure_type = y_test_df[y_test_df['failureType'] == failure_type]\n",
    "        user_result_df_by_failure_type = user_result_df[y_test_df['failureType'] == failure_type]\n",
    "        matching_rows = (y_test_df_by_failure_type == user_result_df_by_failure_type).all(axis=1).sum()\n",
    "        accuracies[failure_type] = (matching_rows/(len(y_test_df_by_failure_type)))\n",
    "    \n",
    "    average_accuracy = sum(accuracies.values())/len(accuracies)\n",
    "\n",
    "print(f\"平均精度：{average_accuracy*100:.2f}%\")"
   ]
  }
 ],
 "metadata": {
  "kernelspec": {
   "display_name": "Python 3 (ipykernel)",
   "language": "python",
   "name": "python3"
  },
  "language_info": {
   "codemirror_mode": {
    "name": "ipython",
    "version": 3
   },
   "file_extension": ".py",
   "mimetype": "text/x-python",
   "name": "python",
   "nbconvert_exporter": "python",
   "pygments_lexer": "ipython3",
   "version": "3.11.6"
  }
 },
 "nbformat": 4,
 "nbformat_minor": 5
}
