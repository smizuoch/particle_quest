{
 "cells": [
  {
   "cell_type": "markdown",
   "id": "a3095fde",
   "metadata": {
    "editable": true,
    "slideshow": {
     "slide_type": ""
    },
    "tags": []
   },
   "source": [
    "# 評価方法\n",
    "\n",
    "分類されていないデータを認識し、どれだけ正しくカテゴリごとに分類できるかを算出した「平均精度」の高さを競い合います。\n",
    "\n",
    "今回、活用するデータはLSWMD_25519となります。\n",
    "LSWMD_25519のFailureType項目が分類されていない状態のデータに対し、正しいFailureTypeカテゴリを分類するプログラムを作成し、その平均精度を算出します。\n",
    "平均精度とは、カテゴリごとに正しく分類できる精度を平均した値です。カテゴリごとに算出した精度（Aが正しく分類された数/Aのデータ数）を足し、カテゴリ数で割ります。\n",
    "\n",
    "公平な評価を実施するために、以下の制限を設けています。\n",
    "1. 外部パッケージをインストールするためのセルとsolution関数の中身のみを編集すること\n",
    "2. 校舎のiMac上で最後のセルの実行時間が15分未満であること　（%%timeitの出力結果を確認してください）\n",
    "\n",
    "※気になる点がある場合、Discordで気軽にお問合せください。"
   ]
  },
  {
   "cell_type": "code",
   "execution_count": 1,
   "id": "c8b0f68e",
   "metadata": {
    "deletable": false,
    "editable": false,
    "slideshow": {
     "slide_type": ""
    },
    "tags": [],
    "vscode": {
     "languageId": "plaintext"
    }
   },
   "outputs": [],
   "source": [
    "import numpy as np # https://numpy.org/ja/\n",
    "import pandas as pd # https://pandas.pydata.org/\n",
    "from sklearn.model_selection import train_test_split"
   ]
  },
  {
   "cell_type": "markdown",
   "id": "3ea86471-32fa-46c6-a005-ad6e1f7b7f72",
   "metadata": {
    "editable": true,
    "slideshow": {
     "slide_type": ""
    },
    "tags": []
   },
   "source": [
    "外部パッケージを使用する場合、以下の方法でインストールを実施してください。"
   ]
  },
  {
   "cell_type": "code",
   "execution_count": 2,
   "id": "6be8d1cd-7df7-4b10-aa1a-e24677b50d78",
   "metadata": {
    "editable": true,
    "slideshow": {
     "slide_type": ""
    },
    "tags": []
   },
   "outputs": [
    {
     "name": "stdout",
     "output_type": "stream",
     "text": [
      "\u001b[33mWARNING: The directory '/home/jovyan/.cache/pip' or its parent directory is not owned or is not writable by the current user. The cache has been disabled. Check the permissions and owner of that directory. If executing pip with sudo, you should use sudo's -H flag.\u001b[0m\u001b[33m\n",
      "\u001b[0mRequirement already satisfied: keras in /opt/conda/lib/python3.11/site-packages (2.15.0)\n",
      "\u001b[33mWARNING: Running pip as the 'root' user can result in broken permissions and conflicting behaviour with the system package manager. It is recommended to use a virtual environment instead: https://pip.pypa.io/warnings/venv\u001b[0m\u001b[33m\n",
      "\u001b[0m\u001b[33mWARNING: The directory '/home/jovyan/.cache/pip' or its parent directory is not owned or is not writable by the current user. The cache has been disabled. Check the permissions and owner of that directory. If executing pip with sudo, you should use sudo's -H flag.\u001b[0m\u001b[33m\n",
      "\u001b[0mRequirement already satisfied: opencv-python in /opt/conda/lib/python3.11/site-packages (4.8.1.78)\n",
      "Requirement already satisfied: numpy>=1.21.2 in /opt/conda/lib/python3.11/site-packages (from opencv-python) (1.24.4)\n",
      "\u001b[33mWARNING: Running pip as the 'root' user can result in broken permissions and conflicting behaviour with the system package manager. It is recommended to use a virtual environment instead: https://pip.pypa.io/warnings/venv\u001b[0m\u001b[33m\n",
      "\u001b[0m\u001b[33mWARNING: The directory '/home/jovyan/.cache/pip' or its parent directory is not owned or is not writable by the current user. The cache has been disabled. Check the permissions and owner of that directory. If executing pip with sudo, you should use sudo's -H flag.\u001b[0m\u001b[33m\n",
      "\u001b[0mRequirement already satisfied: tensorflow-cpu in /opt/conda/lib/python3.11/site-packages (2.15.0)\n",
      "Requirement already satisfied: absl-py>=1.0.0 in /opt/conda/lib/python3.11/site-packages (from tensorflow-cpu) (2.0.0)\n",
      "Requirement already satisfied: astunparse>=1.6.0 in /opt/conda/lib/python3.11/site-packages (from tensorflow-cpu) (1.6.3)\n",
      "Requirement already satisfied: flatbuffers>=23.5.26 in /opt/conda/lib/python3.11/site-packages (from tensorflow-cpu) (23.5.26)\n",
      "Requirement already satisfied: gast!=0.5.0,!=0.5.1,!=0.5.2,>=0.2.1 in /opt/conda/lib/python3.11/site-packages (from tensorflow-cpu) (0.5.4)\n",
      "Requirement already satisfied: google-pasta>=0.1.1 in /opt/conda/lib/python3.11/site-packages (from tensorflow-cpu) (0.2.0)\n",
      "Requirement already satisfied: h5py>=2.9.0 in /opt/conda/lib/python3.11/site-packages (from tensorflow-cpu) (3.10.0)\n",
      "Requirement already satisfied: libclang>=13.0.0 in /opt/conda/lib/python3.11/site-packages (from tensorflow-cpu) (16.0.6)\n",
      "Requirement already satisfied: ml-dtypes~=0.2.0 in /opt/conda/lib/python3.11/site-packages (from tensorflow-cpu) (0.2.0)\n",
      "Requirement already satisfied: numpy<2.0.0,>=1.23.5 in /opt/conda/lib/python3.11/site-packages (from tensorflow-cpu) (1.24.4)\n",
      "Requirement already satisfied: opt-einsum>=2.3.2 in /opt/conda/lib/python3.11/site-packages (from tensorflow-cpu) (3.3.0)\n",
      "Requirement already satisfied: packaging in /opt/conda/lib/python3.11/site-packages (from tensorflow-cpu) (23.2)\n",
      "Requirement already satisfied: protobuf!=4.21.0,!=4.21.1,!=4.21.2,!=4.21.3,!=4.21.4,!=4.21.5,<5.0.0dev,>=3.20.3 in /opt/conda/lib/python3.11/site-packages (from tensorflow-cpu) (4.23.4)\n",
      "Requirement already satisfied: setuptools in /opt/conda/lib/python3.11/site-packages (from tensorflow-cpu) (68.2.2)\n",
      "Requirement already satisfied: six>=1.12.0 in /opt/conda/lib/python3.11/site-packages (from tensorflow-cpu) (1.16.0)\n",
      "Requirement already satisfied: termcolor>=1.1.0 in /opt/conda/lib/python3.11/site-packages (from tensorflow-cpu) (2.3.0)\n",
      "Requirement already satisfied: typing-extensions>=3.6.6 in /opt/conda/lib/python3.11/site-packages (from tensorflow-cpu) (4.8.0)\n",
      "Requirement already satisfied: wrapt<1.15,>=1.11.0 in /opt/conda/lib/python3.11/site-packages (from tensorflow-cpu) (1.14.1)\n",
      "Requirement already satisfied: tensorflow-io-gcs-filesystem>=0.23.1 in /opt/conda/lib/python3.11/site-packages (from tensorflow-cpu) (0.34.0)\n",
      "Requirement already satisfied: grpcio<2.0,>=1.24.3 in /opt/conda/lib/python3.11/site-packages (from tensorflow-cpu) (1.59.3)\n",
      "Requirement already satisfied: tensorboard<2.16,>=2.15 in /opt/conda/lib/python3.11/site-packages (from tensorflow-cpu) (2.15.1)\n",
      "Requirement already satisfied: tensorflow-estimator<2.16,>=2.15.0 in /opt/conda/lib/python3.11/site-packages (from tensorflow-cpu) (2.15.0)\n",
      "Requirement already satisfied: keras<2.16,>=2.15.0 in /opt/conda/lib/python3.11/site-packages (from tensorflow-cpu) (2.15.0)\n",
      "Requirement already satisfied: wheel<1.0,>=0.23.0 in /opt/conda/lib/python3.11/site-packages (from astunparse>=1.6.0->tensorflow-cpu) (0.41.2)\n",
      "Requirement already satisfied: google-auth<3,>=1.6.3 in /opt/conda/lib/python3.11/site-packages (from tensorboard<2.16,>=2.15->tensorflow-cpu) (2.23.4)\n",
      "Requirement already satisfied: google-auth-oauthlib<2,>=0.5 in /opt/conda/lib/python3.11/site-packages (from tensorboard<2.16,>=2.15->tensorflow-cpu) (1.1.0)\n",
      "Requirement already satisfied: markdown>=2.6.8 in /opt/conda/lib/python3.11/site-packages (from tensorboard<2.16,>=2.15->tensorflow-cpu) (3.5.1)\n",
      "Requirement already satisfied: requests<3,>=2.21.0 in /opt/conda/lib/python3.11/site-packages (from tensorboard<2.16,>=2.15->tensorflow-cpu) (2.31.0)\n",
      "Requirement already satisfied: tensorboard-data-server<0.8.0,>=0.7.0 in /opt/conda/lib/python3.11/site-packages (from tensorboard<2.16,>=2.15->tensorflow-cpu) (0.7.2)\n",
      "Requirement already satisfied: werkzeug>=1.0.1 in /opt/conda/lib/python3.11/site-packages (from tensorboard<2.16,>=2.15->tensorflow-cpu) (3.0.1)\n",
      "Requirement already satisfied: cachetools<6.0,>=2.0.0 in /opt/conda/lib/python3.11/site-packages (from google-auth<3,>=1.6.3->tensorboard<2.16,>=2.15->tensorflow-cpu) (5.3.2)\n",
      "Requirement already satisfied: pyasn1-modules>=0.2.1 in /opt/conda/lib/python3.11/site-packages (from google-auth<3,>=1.6.3->tensorboard<2.16,>=2.15->tensorflow-cpu) (0.3.0)\n",
      "Requirement already satisfied: rsa<5,>=3.1.4 in /opt/conda/lib/python3.11/site-packages (from google-auth<3,>=1.6.3->tensorboard<2.16,>=2.15->tensorflow-cpu) (4.9)\n",
      "Requirement already satisfied: requests-oauthlib>=0.7.0 in /opt/conda/lib/python3.11/site-packages (from google-auth-oauthlib<2,>=0.5->tensorboard<2.16,>=2.15->tensorflow-cpu) (1.3.1)\n",
      "Requirement already satisfied: charset-normalizer<4,>=2 in /opt/conda/lib/python3.11/site-packages (from requests<3,>=2.21.0->tensorboard<2.16,>=2.15->tensorflow-cpu) (3.3.0)\n",
      "Requirement already satisfied: idna<4,>=2.5 in /opt/conda/lib/python3.11/site-packages (from requests<3,>=2.21.0->tensorboard<2.16,>=2.15->tensorflow-cpu) (3.4)\n",
      "Requirement already satisfied: urllib3<3,>=1.21.1 in /opt/conda/lib/python3.11/site-packages (from requests<3,>=2.21.0->tensorboard<2.16,>=2.15->tensorflow-cpu) (2.0.7)\n",
      "Requirement already satisfied: certifi>=2017.4.17 in /opt/conda/lib/python3.11/site-packages (from requests<3,>=2.21.0->tensorboard<2.16,>=2.15->tensorflow-cpu) (2023.7.22)\n",
      "Requirement already satisfied: MarkupSafe>=2.1.1 in /opt/conda/lib/python3.11/site-packages (from werkzeug>=1.0.1->tensorboard<2.16,>=2.15->tensorflow-cpu) (2.1.3)\n",
      "Requirement already satisfied: pyasn1<0.6.0,>=0.4.6 in /opt/conda/lib/python3.11/site-packages (from pyasn1-modules>=0.2.1->google-auth<3,>=1.6.3->tensorboard<2.16,>=2.15->tensorflow-cpu) (0.5.1)\n",
      "Requirement already satisfied: oauthlib>=3.0.0 in /opt/conda/lib/python3.11/site-packages (from requests-oauthlib>=0.7.0->google-auth-oauthlib<2,>=0.5->tensorboard<2.16,>=2.15->tensorflow-cpu) (3.2.2)\n",
      "\u001b[33mWARNING: Running pip as the 'root' user can result in broken permissions and conflicting behaviour with the system package manager. It is recommended to use a virtual environment instead: https://pip.pypa.io/warnings/venv\u001b[0m\u001b[33m\n",
      "\u001b[0m"
     ]
    }
   ],
   "source": [
    "# 必要な外部パッケージは、以下の内容を編集しインストールしてください\n",
    "!pip install keras\n",
    "!pip install opencv-python\n",
    "!pip install tensorflow-cpu"
   ]
  },
  {
   "cell_type": "markdown",
   "id": "a113ea05-433a-4c82-9cb1-2c8f834a0364",
   "metadata": {
    "editable": true,
    "slideshow": {
     "slide_type": ""
    },
    "tags": []
   },
   "source": [
    "以下のsolution関数のみ編集してください。"
   ]
  },
  {
   "cell_type": "code",
   "execution_count": 3,
   "id": "cda6ad7e-8e26-4208-bdbd-3fa37e79c82c",
   "metadata": {
    "editable": true,
    "slideshow": {
     "slide_type": ""
    },
    "tags": []
   },
   "outputs": [],
   "source": [
    "def solution(x_test_df, train_df):\n",
    "    import numpy as np\n",
    "    from keras.models import Sequential\n",
    "    from keras.layers import Conv2D, MaxPooling2D, Flatten, Dense, Dropout, BatchNormalization\n",
    "    from keras.callbacks import EarlyStopping\n",
    "    from sklearn.preprocessing import LabelEncoder\n",
    "    from tensorflow.keras.utils import to_categorical\n",
    "    from keras.callbacks import EarlyStopping, ReduceLROnPlateau\n",
    "    import cv2  # OpenCV をインポート\n",
    "    from tensorflow.keras.models import Model\n",
    "    from tensorflow.keras.layers import Input, Conv2D, MaxPooling2D, Flatten, Dense, Dropout, BatchNormalization, Attention\n",
    "    import random\n",
    "\n",
    "    encoder = LabelEncoder()\n",
    "\n",
    "    height, width = 67, 67 # 画像の幅と高さ\n",
    "    channels = 1\n",
    "    target_size = (height, width)  # ターゲットサイズを (幅, 高さ) の順で設定\n",
    "    input_shape = (height, width, channels) # input shape を設定\n",
    "\n",
    "    def augment_images_generator(images, labels):\n",
    "        '''\n",
    "        訓練用のデータの array (3d array) を受け取り, 要素である 2d array を基に拡張された 2d array を 3d array に詰め直して返す関数。\n",
    "        新たにデータ拡張手法を追加したい場合は、以下の operations に lamda 関数を追加することで可能である。\n",
    "        '''\n",
    "        operations = [\n",
    "            # 実行されるデータ拡張手法\n",
    "            lambda x: x,\n",
    "            lambda x: cv2.rotate(x, cv2.ROTATE_90_CLOCKWISE),\n",
    "            lambda x: cv2.rotate(x, cv2.ROTATE_180),\n",
    "            lambda x: cv2.rotate(x, cv2.ROTATE_90_COUNTERCLOCKWISE),\n",
    "            lambda x: cv2.flip(x, 0),\n",
    "            lambda x: cv2.flip(cv2.rotate(x, cv2.ROTATE_90_CLOCKWISE), 0),\n",
    "            lambda x: cv2.flip(cv2.rotate(x, cv2.ROTATE_180), 0),\n",
    "            lambda x: cv2.flip(cv2.rotate(x, cv2.ROTATE_90_COUNTERCLOCKWISE), 0),\n",
    "      ]\n",
    "\n",
    "        # should this be processed with multi threading?\n",
    "        for i in range(3):\n",
    "            yield np.array([random.choice(operations)((img - np.min(img)) / (np.max(img) - np.min(img))) for img in images]).reshape(-1, height, width, channels), labels\n",
    "    \n",
    "    # オリジナルの画像をリサイズ\n",
    "    resized_images = [cv2.resize(cv2.copyMakeBorder(img, 15, 15, 15, 15, cv2.BORDER_CONSTANT, (0,0,0)), target_size[::-1], interpolation=cv2.INTER_LINEAR) for img in train_df['waferMap']]\n",
    "\n",
    "    # ラベルの準備\n",
    "    encoded_Y = encoder.fit_transform(train_df['failureType'])\n",
    "    y_train = to_categorical(encoded_Y)\n",
    "\n",
    "    model = Sequential()\n",
    "    input_layer = Input(shape=input_shape)\n",
    "    \n",
    "    # 畳み込み層とプーリング層\n",
    "    x = Conv2D(32, (5, 5), activation='relu')(input_layer)\n",
    "    x = MaxPooling2D((2, 2))(x)\n",
    "    x = BatchNormalization()(x)\n",
    "    \n",
    "    x = Conv2D(32, (5, 5), activation='relu')(x)\n",
    "    x = MaxPooling2D((2, 2))(x)\n",
    "    x = BatchNormalization()(x)\n",
    "    \n",
    "    # Attentionレイヤーの追加\n",
    "    attention_output = Attention()([x, x])\n",
    "    \n",
    "    # Flattenレイヤーの追加\n",
    "    x = Flatten()(attention_output)\n",
    "    \n",
    "    # 全結合層\n",
    "    x = Dense(128, activation='relu')(x)\n",
    "    x = Dropout(0.2)(x)\n",
    "    \n",
    "    x = Dense(64, activation='relu')(x)\n",
    "    x = Dropout(0.2)(x)\n",
    "    \n",
    "    output_layer = Dense(y_train.shape[1], activation='softmax')(x)\n",
    "    \n",
    "    # モデルの定義\n",
    "    model = Model(inputs=input_layer, outputs=output_layer)\n",
    "    \n",
    "    model.compile(optimizer='adam', loss='categorical_crossentropy', metrics=['accuracy'])\n",
    "    \n",
    "    early_stopping = EarlyStopping(monitor='val_loss', patience=20)\n",
    "\n",
    "    # 学習率を自動的に減らすコールバックを作成\n",
    "    reduce_lr = ReduceLROnPlateau(monitor='val_loss', factor=0.2, patience=5, min_lr=0.01)\n",
    "\n",
    "    for batch_X_train, batch_y_train in augment_images_generator(resized_images, y_train):\n",
    "        model.fit(batch_X_train, batch_y_train, epochs=8, batch_size=64, validation_split=0.2, callbacks=[early_stopping, reduce_lr])\n",
    "\n",
    "    resized_images_test = [ cv2.resize(cv2.copyMakeBorder(img, 15, 15, 15, 15, cv2.BORDER_CONSTANT, (0,0,0)), target_size[::-1], interpolation=cv2.INTER_LINEAR) for img in x_test_df['waferMap'] ]\n",
    "    resized_images_test = [ (img - np.min(img)) / (np.max(img) - np.min(img)) for img in resized_images_test ]\n",
    "    \n",
    "    \n",
    "    X_test = np.array(resized_images_test).reshape(-1, height, width, channels)\n",
    "    del resized_images_test\n",
    "    \n",
    "    y_pred = np.argmax(model.predict(X_test), axis=-1)\n",
    "\n",
    "    return pd.DataFrame({'failureType': encoder.inverse_transform(y_pred)}, index=x_test_df.index)"
   ]
  },
  {
   "cell_type": "markdown",
   "id": "c70c20f4-f775-4d9d-90c7-a3b583584edd",
   "metadata": {
    "editable": true,
    "slideshow": {
     "slide_type": ""
    },
    "tags": []
   },
   "source": [
    "solution関数は以下のように活用され、平均精度を計算します。"
   ]
  },
  {
   "cell_type": "code",
   "execution_count": 4,
   "id": "04a31dda-7c8b-477e-9547-5c9db739f7f0",
   "metadata": {
    "deletable": false,
    "scrolled": true,
    "slideshow": {
     "slide_type": ""
    },
    "tags": [],
    "vscode": {
     "languageId": "plaintext"
    }
   },
   "outputs": [
    {
     "name": "stderr",
     "output_type": "stream",
     "text": [
      "2023-11-21 12:56:12.978443: I tensorflow/core/platform/cpu_feature_guard.cc:182] This TensorFlow binary is optimized to use available CPU instructions in performance-critical operations.\n",
      "To enable the following instructions: AVX2 FMA, in other operations, rebuild TensorFlow with the appropriate compiler flags.\n"
     ]
    },
    {
     "name": "stdout",
     "output_type": "stream",
     "text": [
      "Epoch 1/8\n",
      "288/288 [==============================] - 35s 119ms/step - loss: 0.9170 - accuracy: 0.6587 - val_loss: 5.7711 - val_accuracy: 0.1384 - lr: 0.0010\n",
      "Epoch 2/8\n",
      "288/288 [==============================] - 32s 111ms/step - loss: 0.6030 - accuracy: 0.7711 - val_loss: 1.9178 - val_accuracy: 0.3237 - lr: 0.0010\n",
      "Epoch 3/8\n",
      "288/288 [==============================] - 33s 116ms/step - loss: 0.5031 - accuracy: 0.8118 - val_loss: 0.6737 - val_accuracy: 0.7521 - lr: 0.0010\n",
      "Epoch 4/8\n",
      "288/288 [==============================] - 35s 120ms/step - loss: 0.4474 - accuracy: 0.8330 - val_loss: 0.5188 - val_accuracy: 0.8280 - lr: 0.0010\n",
      "Epoch 5/8\n",
      "288/288 [==============================] - 33s 113ms/step - loss: 0.4086 - accuracy: 0.8507 - val_loss: 2.5718 - val_accuracy: 0.5364 - lr: 0.0010\n",
      "Epoch 6/8\n",
      "288/288 [==============================] - 32s 113ms/step - loss: 0.3507 - accuracy: 0.8688 - val_loss: 0.3860 - val_accuracy: 0.8561 - lr: 0.0010\n",
      "Epoch 7/8\n",
      "288/288 [==============================] - 33s 115ms/step - loss: 0.3358 - accuracy: 0.8731 - val_loss: 0.7891 - val_accuracy: 0.7714 - lr: 0.0010\n",
      "Epoch 8/8\n",
      "288/288 [==============================] - 31s 108ms/step - loss: 0.3178 - accuracy: 0.8824 - val_loss: 0.7367 - val_accuracy: 0.7686 - lr: 0.0010\n",
      "Epoch 1/8\n",
      "288/288 [==============================] - 33s 115ms/step - loss: 0.3631 - accuracy: 0.8673 - val_loss: 0.3495 - val_accuracy: 0.8764 - lr: 0.0010\n",
      "Epoch 2/8\n",
      "288/288 [==============================] - 30s 106ms/step - loss: 0.3177 - accuracy: 0.8825 - val_loss: 0.7202 - val_accuracy: 0.8021 - lr: 0.0010\n",
      "Epoch 3/8\n",
      "288/288 [==============================] - 36s 126ms/step - loss: 0.2768 - accuracy: 0.8946 - val_loss: 0.4093 - val_accuracy: 0.8524 - lr: 0.0010\n",
      "Epoch 4/8\n",
      "288/288 [==============================] - 33s 115ms/step - loss: 0.2604 - accuracy: 0.9044 - val_loss: 0.3061 - val_accuracy: 0.8883 - lr: 0.0010\n",
      "Epoch 5/8\n",
      "288/288 [==============================] - 31s 107ms/step - loss: 0.2401 - accuracy: 0.9106 - val_loss: 0.3078 - val_accuracy: 0.8846 - lr: 0.0010\n",
      "Epoch 6/8\n",
      "288/288 [==============================] - 31s 107ms/step - loss: 0.2108 - accuracy: 0.9219 - val_loss: 0.5103 - val_accuracy: 0.8328 - lr: 0.0010\n",
      "Epoch 7/8\n",
      "288/288 [==============================] - 30s 105ms/step - loss: 0.1856 - accuracy: 0.9295 - val_loss: 0.2937 - val_accuracy: 0.9029 - lr: 0.0010\n",
      "Epoch 8/8\n",
      "288/288 [==============================] - 33s 114ms/step - loss: 0.1723 - accuracy: 0.9352 - val_loss: 0.3790 - val_accuracy: 0.8781 - lr: 0.0010\n",
      "Epoch 1/8\n",
      "288/288 [==============================] - 32s 111ms/step - loss: 0.3175 - accuracy: 0.8852 - val_loss: 0.3966 - val_accuracy: 0.8524 - lr: 0.0010\n",
      "Epoch 2/8\n",
      "288/288 [==============================] - 32s 110ms/step - loss: 0.2557 - accuracy: 0.9082 - val_loss: 0.4541 - val_accuracy: 0.8413 - lr: 0.0010\n",
      "Epoch 3/8\n",
      "288/288 [==============================] - 30s 103ms/step - loss: 0.2142 - accuracy: 0.9196 - val_loss: 0.3305 - val_accuracy: 0.8844 - lr: 0.0010\n",
      "Epoch 4/8\n",
      "288/288 [==============================] - 34s 117ms/step - loss: 0.2003 - accuracy: 0.9259 - val_loss: 0.3360 - val_accuracy: 0.8883 - lr: 0.0010\n",
      "Epoch 5/8\n",
      "288/288 [==============================] - 31s 108ms/step - loss: 0.1752 - accuracy: 0.9340 - val_loss: 0.3431 - val_accuracy: 0.8960 - lr: 0.0010\n",
      "Epoch 6/8\n",
      "288/288 [==============================] - 32s 110ms/step - loss: 0.1619 - accuracy: 0.9408 - val_loss: 0.3043 - val_accuracy: 0.8968 - lr: 0.0010\n",
      "Epoch 7/8\n",
      "288/288 [==============================] - 34s 117ms/step - loss: 0.1394 - accuracy: 0.9479 - val_loss: 0.3239 - val_accuracy: 0.8988 - lr: 0.0010\n",
      "Epoch 8/8\n",
      "288/288 [==============================] - 30s 105ms/step - loss: 0.1170 - accuracy: 0.9573 - val_loss: 0.4131 - val_accuracy: 0.8790 - lr: 0.0010\n",
      "80/80 [==============================] - 1s 10ms/step\n",
      "不良タイプ Loc の正答率：79.39%\n",
      "不良タイプ Edge-Loc の正答率：84.97%\n",
      "不良タイプ Center の正答率：95.80%\n",
      "不良タイプ Edge-Ring の正答率：97.00%\n",
      "不良タイプ Scratch の正答率：68.91%\n",
      "不良タイプ Random の正答率：36.78%\n",
      "不良タイプ Near-full の正答率：100.00%\n",
      "不良タイプ Donut の正答率：73.21%\n",
      "平均精度：79.51%\n"
     ]
    },
    {
     "data": {
      "image/png": "[encoded data removed]",
      "text/plain": [
       "<Figure size 640x480 with 2 Axes>"
      ]
     },
     "metadata": {},
     "output_type": "display_data"
    },
    {
     "name": "stdout",
     "output_type": "stream",
     "text": [
      "14min 7s ± 0 ns per loop (mean ± std. dev. of 1 run, 1 loop each)\n"
     ]
    }
   ],
   "source": [
    "%%timeit -r 1 -n 1\n",
    "\n",
    "# データのインポート\n",
    "df = pd.read_pickle(\"../input/LSWMD_25519.pkl\")\n",
    "\n",
    "# テスト用と学習用のデータを作成（テストする際は、random_stateの値などを編集してみてください）\n",
    "train_df, test_df = train_test_split(df, stratify=df['failureType'], test_size=0.10, random_state=42)\n",
    "\n",
    "y_test_df = test_df[['failureType']]\n",
    "x_test_df = test_df.drop(columns=['failureType'])\n",
    "\n",
    "# solution関数を実行\n",
    "user_result_df = solution(x_test_df, train_df)\n",
    "\n",
    "average_accuracy = 0\n",
    "# ユーザーの提出物のフォーマット確認\n",
    "if type(y_test_df) == type(user_result_df) and y_test_df.shape == user_result_df.shape:\n",
    "    # 平均精度の計算\n",
    "    accuracies = {}\n",
    "    for failure_type in df['failureType'].unique():\n",
    "        y_test_df_by_failure_type = y_test_df[y_test_df['failureType'] == failure_type]\n",
    "        user_result_df_by_failure_type = user_result_df[y_test_df['failureType'] == failure_type]\n",
    "        matching_rows = (y_test_df_by_failure_type == user_result_df_by_failure_type).all(axis=1).sum()\n",
    "        accuracies[failure_type] = matching_rows / len(y_test_df_by_failure_type)\n",
    "        print(f\"不良タイプ {failure_type} の正答率：{accuracies[failure_type] * 100:.2f}%\")\n",
    "    \n",
    "    average_accuracy = sum(accuracies.values()) / len(accuracies)\n",
    "\n",
    "print(f\"平均精度：{average_accuracy * 100:.2f}%\")\n",
    "\n",
    "import matplotlib.pyplot as plt\n",
    "from sklearn.metrics import ConfusionMatrixDisplay\n",
    "ConfusionMatrixDisplay.from_predictions(y_test_df, user_result_df, xticks_rotation=\"vertical\")\n",
    "plt.show()"
   ]
  }
 ],
 "metadata": {
  "kernelspec": {
   "display_name": "Python 3 (ipykernel)",
   "language": "python",
   "name": "python3"
  },
  "language_info": {
   "codemirror_mode": {
    "name": "ipython",
    "version": 3
   },
   "file_extension": ".py",
   "mimetype": "text/x-python",
   "name": "python",
   "nbconvert_exporter": "python",
   "pygments_lexer": "ipython3",
   "version": "3.11.6"
  }
 },
 "nbformat": 4,
 "nbformat_minor": 5
}
